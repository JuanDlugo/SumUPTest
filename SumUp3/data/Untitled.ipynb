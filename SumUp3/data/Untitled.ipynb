{
 "cells": [
  {
   "cell_type": "code",
   "execution_count": 2,
   "id": "e1dbac2f",
   "metadata": {},
   "outputs": [],
   "source": [
    "import pandas as pd\n",
    "\n",
    "stores = pd.read_excel('store.xlsx')\n",
    "devices = pd.read_excel('device.xlsx')\n",
    "transactions = pd.read_excel('transaction.xlsx')\n"
   ]
  },
  {
   "cell_type": "code",
   "execution_count": 4,
   "id": "b6bc4721",
   "metadata": {
    "scrolled": true
   },
   "outputs": [
    {
     "data": {
      "text/html": [
       "<div>\n",
       "<style scoped>\n",
       "    .dataframe tbody tr th:only-of-type {\n",
       "        vertical-align: middle;\n",
       "    }\n",
       "\n",
       "    .dataframe tbody tr th {\n",
       "        vertical-align: top;\n",
       "    }\n",
       "\n",
       "    .dataframe thead th {\n",
       "        text-align: right;\n",
       "    }\n",
       "</style>\n",
       "<table border=\"1\" class=\"dataframe\">\n",
       "  <thead>\n",
       "    <tr style=\"text-align: right;\">\n",
       "      <th></th>\n",
       "      <th>id</th>\n",
       "      <th>name</th>\n",
       "      <th>address</th>\n",
       "      <th>city</th>\n",
       "      <th>country</th>\n",
       "      <th>created_at</th>\n",
       "      <th>typology</th>\n",
       "      <th>customer_id</th>\n",
       "    </tr>\n",
       "  </thead>\n",
       "  <tbody>\n",
       "    <tr>\n",
       "      <th>0</th>\n",
       "      <td>1</td>\n",
       "      <td>Vulputate Risus PC</td>\n",
       "      <td>Ap #124-1954 Adipiscing St.</td>\n",
       "      <td>Santa Inês</td>\n",
       "      <td>Belgium</td>\n",
       "      <td>2023-03-24 04:52:21</td>\n",
       "      <td>Florist</td>\n",
       "      <td>22</td>\n",
       "    </tr>\n",
       "    <tr>\n",
       "      <th>1</th>\n",
       "      <td>2</td>\n",
       "      <td>Dui Fusce Associates</td>\n",
       "      <td>Ap #768-3045 Sed, Street</td>\n",
       "      <td>Patarrá</td>\n",
       "      <td>Poland</td>\n",
       "      <td>2023-08-22 03:45:35</td>\n",
       "      <td>Other</td>\n",
       "      <td>30</td>\n",
       "    </tr>\n",
       "    <tr>\n",
       "      <th>2</th>\n",
       "      <td>3</td>\n",
       "      <td>Nec Ante Ltd</td>\n",
       "      <td>4587 Tincidunt Avenue</td>\n",
       "      <td>Gaspé</td>\n",
       "      <td>Costa Rica</td>\n",
       "      <td>2022-11-17 10:32:56</td>\n",
       "      <td>FoodTruck</td>\n",
       "      <td>21</td>\n",
       "    </tr>\n",
       "    <tr>\n",
       "      <th>3</th>\n",
       "      <td>4</td>\n",
       "      <td>At Auctor Limited</td>\n",
       "      <td>1962 Lorem Avenue</td>\n",
       "      <td>Siquirres</td>\n",
       "      <td>Nigeria</td>\n",
       "      <td>2023-12-15 01:13:46</td>\n",
       "      <td>Hotel</td>\n",
       "      <td>45</td>\n",
       "    </tr>\n",
       "    <tr>\n",
       "      <th>4</th>\n",
       "      <td>5</td>\n",
       "      <td>Ac Turpis Limited</td>\n",
       "      <td>Ap #844-1075 A, Av.</td>\n",
       "      <td>Mazenzele</td>\n",
       "      <td>Ireland</td>\n",
       "      <td>2023-04-13 11:58:34</td>\n",
       "      <td>Restaurant</td>\n",
       "      <td>15</td>\n",
       "    </tr>\n",
       "  </tbody>\n",
       "</table>\n",
       "</div>"
      ],
      "text/plain": [
       "   id                  name                      address        city  \\\n",
       "0   1    Vulputate Risus PC  Ap #124-1954 Adipiscing St.  Santa Inês   \n",
       "1   2  Dui Fusce Associates     Ap #768-3045 Sed, Street     Patarrá   \n",
       "2   3          Nec Ante Ltd        4587 Tincidunt Avenue       Gaspé   \n",
       "3   4     At Auctor Limited            1962 Lorem Avenue   Siquirres   \n",
       "4   5     Ac Turpis Limited          Ap #844-1075 A, Av.   Mazenzele   \n",
       "\n",
       "      country          created_at    typology  customer_id  \n",
       "0     Belgium 2023-03-24 04:52:21     Florist           22  \n",
       "1      Poland 2023-08-22 03:45:35       Other           30  \n",
       "2  Costa Rica 2022-11-17 10:32:56   FoodTruck           21  \n",
       "3     Nigeria 2023-12-15 01:13:46       Hotel           45  \n",
       "4     Ireland 2023-04-13 11:58:34  Restaurant           15  "
      ]
     },
     "execution_count": 4,
     "metadata": {},
     "output_type": "execute_result"
    }
   ],
   "source": [
    "stores.head()"
   ]
  },
  {
   "cell_type": "code",
   "execution_count": 5,
   "id": "5edbf575",
   "metadata": {},
   "outputs": [
    {
     "data": {
      "text/html": [
       "<div>\n",
       "<style scoped>\n",
       "    .dataframe tbody tr th:only-of-type {\n",
       "        vertical-align: middle;\n",
       "    }\n",
       "\n",
       "    .dataframe tbody tr th {\n",
       "        vertical-align: top;\n",
       "    }\n",
       "\n",
       "    .dataframe thead th {\n",
       "        text-align: right;\n",
       "    }\n",
       "</style>\n",
       "<table border=\"1\" class=\"dataframe\">\n",
       "  <thead>\n",
       "    <tr style=\"text-align: right;\">\n",
       "      <th></th>\n",
       "      <th>id</th>\n",
       "      <th>type</th>\n",
       "      <th>store_id</th>\n",
       "    </tr>\n",
       "  </thead>\n",
       "  <tbody>\n",
       "    <tr>\n",
       "      <th>0</th>\n",
       "      <td>1</td>\n",
       "      <td>1</td>\n",
       "      <td>52</td>\n",
       "    </tr>\n",
       "    <tr>\n",
       "      <th>1</th>\n",
       "      <td>2</td>\n",
       "      <td>1</td>\n",
       "      <td>84</td>\n",
       "    </tr>\n",
       "    <tr>\n",
       "      <th>2</th>\n",
       "      <td>3</td>\n",
       "      <td>3</td>\n",
       "      <td>55</td>\n",
       "    </tr>\n",
       "    <tr>\n",
       "      <th>3</th>\n",
       "      <td>4</td>\n",
       "      <td>4</td>\n",
       "      <td>75</td>\n",
       "    </tr>\n",
       "    <tr>\n",
       "      <th>4</th>\n",
       "      <td>5</td>\n",
       "      <td>5</td>\n",
       "      <td>58</td>\n",
       "    </tr>\n",
       "  </tbody>\n",
       "</table>\n",
       "</div>"
      ],
      "text/plain": [
       "   id  type  store_id\n",
       "0   1     1        52\n",
       "1   2     1        84\n",
       "2   3     3        55\n",
       "3   4     4        75\n",
       "4   5     5        58"
      ]
     },
     "execution_count": 5,
     "metadata": {},
     "output_type": "execute_result"
    }
   ],
   "source": [
    "devices.head()"
   ]
  },
  {
   "cell_type": "code",
   "execution_count": 6,
   "id": "5cabe46c",
   "metadata": {},
   "outputs": [
    {
     "data": {
      "text/html": [
       "<div>\n",
       "<style scoped>\n",
       "    .dataframe tbody tr th:only-of-type {\n",
       "        vertical-align: middle;\n",
       "    }\n",
       "\n",
       "    .dataframe tbody tr th {\n",
       "        vertical-align: top;\n",
       "    }\n",
       "\n",
       "    .dataframe thead th {\n",
       "        text-align: right;\n",
       "    }\n",
       "</style>\n",
       "<table border=\"1\" class=\"dataframe\">\n",
       "  <thead>\n",
       "    <tr style=\"text-align: right;\">\n",
       "      <th></th>\n",
       "      <th>id</th>\n",
       "      <th>device_id</th>\n",
       "      <th>product_name</th>\n",
       "      <th>product_sku</th>\n",
       "      <th>category_name</th>\n",
       "      <th>amount</th>\n",
       "      <th>status</th>\n",
       "      <th>card_number</th>\n",
       "      <th>cvv</th>\n",
       "      <th>created_at</th>\n",
       "      <th>happened_at</th>\n",
       "    </tr>\n",
       "  </thead>\n",
       "  <tbody>\n",
       "    <tr>\n",
       "      <th>0</th>\n",
       "      <td>1</td>\n",
       "      <td>169</td>\n",
       "      <td>libero. Morbi</td>\n",
       "      <td>3770009015048</td>\n",
       "      <td>amet,</td>\n",
       "      <td>749</td>\n",
       "      <td>cancelled</td>\n",
       "      <td>201433236787273</td>\n",
       "      <td>714</td>\n",
       "      <td>2022-10-16 03:52:35</td>\n",
       "      <td>2022-05-15 08:10:46</td>\n",
       "    </tr>\n",
       "    <tr>\n",
       "      <th>1</th>\n",
       "      <td>2</td>\n",
       "      <td>9</td>\n",
       "      <td>hendrerit a,</td>\n",
       "      <td>3770009015049</td>\n",
       "      <td>magna</td>\n",
       "      <td>235</td>\n",
       "      <td>refused</td>\n",
       "      <td>3477 282862 44521</td>\n",
       "      <td>146</td>\n",
       "      <td>2023-02-22 09:02:54</td>\n",
       "      <td>2022-08-15 09:06:29</td>\n",
       "    </tr>\n",
       "    <tr>\n",
       "      <th>2</th>\n",
       "      <td>3</td>\n",
       "      <td>25</td>\n",
       "      <td>neque vitae</td>\n",
       "      <td>3770009015074</td>\n",
       "      <td>montes,</td>\n",
       "      <td>304</td>\n",
       "      <td>accepted</td>\n",
       "      <td>4556596815473496</td>\n",
       "      <td>562</td>\n",
       "      <td>2023-02-27 06:21:32</td>\n",
       "      <td>2022-01-26 06:50:55</td>\n",
       "    </tr>\n",
       "    <tr>\n",
       "      <th>3</th>\n",
       "      <td>4</td>\n",
       "      <td>89</td>\n",
       "      <td>Sed eu</td>\n",
       "      <td>3770009015042</td>\n",
       "      <td>erat</td>\n",
       "      <td>141</td>\n",
       "      <td>accepted</td>\n",
       "      <td>3628 676867 82399</td>\n",
       "      <td>891</td>\n",
       "      <td>2023-01-01 03:10:04</td>\n",
       "      <td>2022-10-09 07:59:34</td>\n",
       "    </tr>\n",
       "    <tr>\n",
       "      <th>4</th>\n",
       "      <td>5</td>\n",
       "      <td>40</td>\n",
       "      <td>dolor. Nulla</td>\n",
       "      <td>3770009015049</td>\n",
       "      <td>Etiam</td>\n",
       "      <td>549</td>\n",
       "      <td>cancelled</td>\n",
       "      <td>4903871164699481227</td>\n",
       "      <td>345</td>\n",
       "      <td>2022-10-09 03:20:39</td>\n",
       "      <td>2021-10-23 10:12:44</td>\n",
       "    </tr>\n",
       "  </tbody>\n",
       "</table>\n",
       "</div>"
      ],
      "text/plain": [
       "   id  device_id   product_name    product_sku category_name  amount  \\\n",
       "0   1        169  libero. Morbi  3770009015048         amet,     749   \n",
       "1   2          9   hendrerit a,  3770009015049         magna     235   \n",
       "2   3         25    neque vitae  3770009015074       montes,     304   \n",
       "3   4         89         Sed eu  3770009015042          erat     141   \n",
       "4   5         40   dolor. Nulla  3770009015049         Etiam     549   \n",
       "\n",
       "      status          card_number  cvv          created_at         happened_at  \n",
       "0  cancelled      201433236787273  714 2022-10-16 03:52:35 2022-05-15 08:10:46  \n",
       "1    refused    3477 282862 44521  146 2023-02-22 09:02:54 2022-08-15 09:06:29  \n",
       "2   accepted     4556596815473496  562 2023-02-27 06:21:32 2022-01-26 06:50:55  \n",
       "3   accepted    3628 676867 82399  891 2023-01-01 03:10:04 2022-10-09 07:59:34  \n",
       "4  cancelled  4903871164699481227  345 2022-10-09 03:20:39 2021-10-23 10:12:44  "
      ]
     },
     "execution_count": 6,
     "metadata": {},
     "output_type": "execute_result"
    }
   ],
   "source": [
    "transactions.head()"
   ]
  },
  {
   "cell_type": "code",
   "execution_count": 9,
   "id": "bad8866f",
   "metadata": {},
   "outputs": [
    {
     "name": "stdout",
     "output_type": "stream",
     "text": [
      "Top 10 Stores by Transacted Amount:\n",
      "                               name  amount\n",
      "49                    Nec Ante Ltd    9383\n",
      "64             Sem Ut Cursus Corp.    8909\n",
      "41                 Magnis Dis Inc.    7334\n",
      "12            Blandit At Nisi Inc.    7326\n",
      "78     Volutpat Nunc Sit Institute    6853\n",
      "42               Mauris Aliquam PC    6739\n",
      "45      Mauris Sit Amet Associates    6722\n",
      "73  Ultrices Posuere Cubilia Corp.    6143\n",
      "59       Pede Ultrices Corporation    5946\n",
      "61  Sapien Nunc Pulvinar Institute    5926\n"
     ]
    }
   ],
   "source": [
    "top_10_stores = transactions[transactions['status'] == 'accepted'].merge(devices, left_on='device_id', right_on='id').merge(stores, left_on='store_id', right_on='id').groupby('name').agg({'amount': 'sum'}).reset_index().sort_values(by='amount', ascending=False).head(10)\n",
    "print(\"Top 10 Stores by Transacted Amount:\\n\", top_10_stores)"
   ]
  },
  {
   "cell_type": "code",
   "execution_count": 10,
   "id": "7d168c6a",
   "metadata": {},
   "outputs": [
    {
     "name": "stdout",
     "output_type": "stream",
     "text": [
      "Top 10 Products Sold:\n",
      "              product_name  total_sold\n",
      "94             at, velit.           4\n",
      "329              sit amet           4\n",
      "0             Aenean eget           3\n",
      "367     ultricies ornare,           3\n",
      "293       posuere cubilia           3\n",
      "126          dolor. Fusce           3\n",
      "124             dolor sit           3\n",
      "113               diam at           3\n",
      "256     natoque penatibus           3\n",
      "183  fringilla, porttitor           3\n"
     ]
    }
   ],
   "source": [
    "top_10_products = transactions[transactions['status'] == 'accepted'].groupby('product_name').size().reset_index(name='total_sold').sort_values(by='total_sold', ascending=False).head(10)\n",
    "print(\"Top 10 Products Sold:\\n\", top_10_products)"
   ]
  },
  {
   "cell_type": "code",
   "execution_count": 11,
   "id": "07766038",
   "metadata": {},
   "outputs": [
    {
     "name": "stdout",
     "output_type": "stream",
     "text": [
      "Average Transacted Amount per Store Typology and Country:\n",
      "    typology         country      amount\n",
      "0    Beauty         Austria  584.750000\n",
      "1    Beauty          Brazil  435.000000\n",
      "2    Beauty         Ireland  558.000000\n",
      "3    Beauty           Italy  452.500000\n",
      "4    Beauty     Netherlands  373.666667\n",
      "..      ...             ...         ...\n",
      "62  Service          Mexico  602.000000\n",
      "63  Service       Singapore  443.333333\n",
      "64  Service    South Africa  614.666667\n",
      "65  Service         Ukraine  387.200000\n",
      "66  Service  United Kingdom  563.375000\n",
      "\n",
      "[67 rows x 3 columns]\n"
     ]
    }
   ],
   "source": [
    "# Average transacted amount per store typology and country\n",
    "avg_amount_typology_country = transactions[transactions['status'] == 'accepted'].merge(devices, left_on='device_id', right_on='id').merge(stores, left_on='store_id', right_on='id').groupby(['typology', 'country']).agg({'amount': 'mean'}).reset_index()\n",
    "print(\"Average Transacted Amount per Store Typology and Country:\\n\", avg_amount_typology_country)\n"
   ]
  },
  {
   "cell_type": "code",
   "execution_count": 12,
   "id": "b6ecb472",
   "metadata": {},
   "outputs": [
    {
     "name": "stdout",
     "output_type": "stream",
     "text": [
      "Percentage of Transactions per Device Type:\n",
      "    type  count  percentage\n",
      "0     1    116   23.770492\n",
      "1     2     93   19.057377\n",
      "2     3     88   18.032787\n",
      "3     4    106   21.721311\n",
      "4     5     85   17.418033\n"
     ]
    }
   ],
   "source": [
    "pct_transactions_device_type = transactions[transactions['status'] == 'accepted'].merge(devices, left_on='device_id', right_on='id').groupby('type').size().reset_index(name='count')\n",
    "total_transactions = pct_transactions_device_type['count'].sum()\n",
    "pct_transactions_device_type['percentage'] = (pct_transactions_device_type['count'] / total_transactions) * 100\n",
    "print(\"Percentage of Transactions per Device Type:\\n\", pct_transactions_device_type)\n"
   ]
  },
  {
   "cell_type": "code",
   "execution_count": 13,
   "id": "64190304",
   "metadata": {},
   "outputs": [
    {
     "data": {
      "text/plain": [
       "100.0"
      ]
     },
     "execution_count": 13,
     "metadata": {},
     "output_type": "execute_result"
    }
   ],
   "source": [
    "23.770492 + 19.057377 + 18.032787 + 21.721311 + 17.418033"
   ]
  },
  {
   "cell_type": "code",
   "execution_count": 17,
   "id": "67e32b72",
   "metadata": {},
   "outputs": [
    {
     "name": "stdout",
     "output_type": "stream",
     "text": [
      "El tiempo promedio en minutos para que una tienda complete sus primeras 5 transacciones es: 243.92414175724636 dias\n"
     ]
    }
   ],
   "source": [
    "\n",
    "# Convertir 'happened_at' a tipo datetime\n",
    "transactions['happened_at'] = pd.to_datetime(transactions['happened_at'])\n",
    "\n",
    "# Filtrar transacciones aceptadas y unir con el DataFrame de devices\n",
    "accepted_transactions = transactions[transactions['status'] == 'accepted'].merge(devices, left_on='device_id', right_on='id')\n",
    "\n",
    "# Ordenar por 'happened_at' y agrupar por 'store_id'\n",
    "accepted_transactions = accepted_transactions.sort_values(by='happened_at')\n",
    "accepted_transactions['rn'] = accepted_transactions.groupby('store_id').cumcount() + 1\n",
    "\n",
    "# Filtrar tiendas con al menos 5 transacciones\n",
    "stores_with_5_trans = accepted_transactions[accepted_transactions['rn'] == 5]['store_id'].unique()\n",
    "filtered_transactions = accepted_transactions[accepted_transactions['store_id'].isin(stores_with_5_trans)]\n",
    "\n",
    "# Calcular el tiempo en minutos entre la primera y la quinta transacción\n",
    "first_and_fifth = filtered_transactions[filtered_transactions['rn'].isin([1, 5])]\n",
    "first_fifth_times = first_and_fifth.pivot(index='store_id', columns='rn', values='happened_at')\n",
    "first_fifth_times['time_diff_minutes'] = (first_fifth_times[5] - first_fifth_times[1]).dt.total_seconds() / 60\n",
    "\n",
    "# Calcular el promedio del tiempo en minutos\n",
    "average_time_minutes = first_fifth_times['time_diff_minutes'].mean()\n",
    "\n",
    "# Imprimir el resultado\n",
    "print(f\"El tiempo promedio en minutos para que una tienda complete sus primeras 5 transacciones es: {average_time_minutes/(60*24)} dias\")\n"
   ]
  },
  {
   "cell_type": "code",
   "execution_count": null,
   "id": "e6345661",
   "metadata": {},
   "outputs": [],
   "source": []
  }
 ],
 "metadata": {
  "kernelspec": {
   "display_name": "Python 3 (ipykernel)",
   "language": "python",
   "name": "python3"
  },
  "language_info": {
   "codemirror_mode": {
    "name": "ipython",
    "version": 3
   },
   "file_extension": ".py",
   "mimetype": "text/x-python",
   "name": "python",
   "nbconvert_exporter": "python",
   "pygments_lexer": "ipython3",
   "version": "3.8.3"
  }
 },
 "nbformat": 4,
 "nbformat_minor": 5
}
